{
 "cells": [
  {
   "cell_type": "code",
   "execution_count": 6,
   "metadata": {},
   "outputs": [],
   "source": [
    "import pandas as pd \n",
    "import numpy as np \n",
    "import requests \n",
    "import json, io\n"
   ]
  },
  {
   "cell_type": "code",
   "execution_count": 27,
   "metadata": {},
   "outputs": [],
   "source": [
    "df = pd.read_csv('DATASETS/lightning_2022.csv')\n",
    "df['cx-cy'] = df.apply(lambda record: str(record.cx) + '-' + str(record.cy), axis =1 )\n",
    "\n",
    "def weatherCall():\n",
    "    \n",
    "    co_ordinates = [(cxcy.split('-')[0], cxcy.split('-')[1]) for cxcy in df['cx-cy'].unique()]\n",
    "    dfs = []\n",
    "    for cx, cy in co_ordinates:\n",
    "\n",
    "        json_obj = json.loads(requests.get(f'https://archive-api.open-meteo.com/v1/archive?latitude={cy}&longitude={cx}&start_date=2022-01-01&end_date=2022-12-25&daily=weathercode,temperature_2m_max,temperature_2m_min,temperature_2m_mean,apparent_temperature_max,apparent_temperature_min,apparent_temperature_mean,sunrise,sunset,shortwave_radiation_sum,precipitation_sum,rain_sum,snowfall_sum,precipitation_hours,windspeed_10m_max,windgusts_10m_max,winddirection_10m_dominant,et0_fao_evapotranspiration&timezone=Asia%2FSingapore').content)\n",
    "        data = pd.DataFrame(json_obj['daily']) \n",
    "        data['cx'] = cx\n",
    "        data['cy'] = cy\n",
    "        dfs.append(data)\n",
    "\n",
    "    return pd.concat(dfs)\n",
    "\n",
    "weather = weatherCall()\n"
   ]
  },
  {
   "cell_type": "code",
   "execution_count": 33,
   "metadata": {},
   "outputs": [],
   "source": [
    "weather['PRIMARY_KEY'] = weather.apply(lambda x: f'{x.cx}-{x.cy}-{x.time}', axis = 1)\n",
    "df['PRIMARY_KEY'] = df.apply(lambda x: f'{x.cx}-{x.cy}-{x.DATE}', axis = 1)"
   ]
  },
  {
   "cell_type": "code",
   "execution_count": 34,
   "metadata": {},
   "outputs": [],
   "source": [
    "main_df = pd.merge(left = df, right = weather, how = 'inner', on = 'PRIMARY_KEY')"
   ]
  },
  {
   "cell_type": "code",
   "execution_count": 40,
   "metadata": {},
   "outputs": [
    {
     "data": {
      "text/plain": [
       "5.794058827005558"
      ]
     },
     "execution_count": 40,
     "metadata": {},
     "output_type": "execute_result"
    }
   ],
   "source": [
    "len(main_df.loc[main_df.Count != 0, :])/len(main_df)*100"
   ]
  },
  {
   "cell_type": "code",
   "execution_count": 39,
   "metadata": {},
   "outputs": [],
   "source": [
    "main_df.to_csv('DATASETS/weather_lightning.csv', index=False)"
   ]
  },
  {
   "cell_type": "code",
   "execution_count": null,
   "metadata": {},
   "outputs": [],
   "source": []
  }
 ],
 "metadata": {
  "kernelspec": {
   "display_name": "ml",
   "language": "python",
   "name": "ml"
  },
  "language_info": {
   "codemirror_mode": {
    "name": "ipython",
    "version": 3
   },
   "file_extension": ".py",
   "mimetype": "text/x-python",
   "name": "python",
   "nbconvert_exporter": "python",
   "pygments_lexer": "ipython3",
   "version": "3.10.6"
  },
  "orig_nbformat": 4
 },
 "nbformat": 4,
 "nbformat_minor": 2
}
