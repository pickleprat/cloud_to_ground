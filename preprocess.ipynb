{
 "cells": [
  {
   "cell_type": "code",
   "execution_count": 4,
   "metadata": {},
   "outputs": [
    {
     "name": "stdout",
     "output_type": "stream",
     "text": [
      "Collecting patool\n",
      "  Downloading patool-1.12-py2.py3-none-any.whl (77 kB)\n",
      "     ---------------------------------------- 77.5/77.5 KB 2.2 MB/s eta 0:00:00\n",
      "Collecting pyunpack\n",
      "  Downloading pyunpack-0.3-py2.py3-none-any.whl (4.1 kB)\n",
      "Collecting easyprocess\n",
      "  Downloading EasyProcess-1.1-py3-none-any.whl (8.7 kB)\n",
      "Collecting entrypoint2\n",
      "  Downloading entrypoint2-1.1-py2.py3-none-any.whl (9.9 kB)\n",
      "Installing collected packages: patool, entrypoint2, easyprocess, pyunpack\n",
      "Successfully installed easyprocess-1.1 entrypoint2-1.1 patool-1.12 pyunpack-0.3\n",
      "Note: you may need to restart the kernel to use updated packages.\n"
     ]
    },
    {
     "name": "stderr",
     "output_type": "stream",
     "text": [
      "WARNING: You are using pip version 22.0.4; however, version 23.0 is available.\n",
      "You should consider upgrading via the 'c:\\Users\\hp\\OneDrive\\Desktop\\machine_learning\\ml\\Scripts\\python.exe -m pip install --upgrade pip' command.\n"
     ]
    }
   ],
   "source": [
    "%pip install patool pyunpack"
   ]
  },
  {
   "cell_type": "code",
   "execution_count": 3,
   "metadata": {},
   "outputs": [],
   "source": [
    "import pandas as pd \n",
    "from zipfile import ZipFile\n",
    "import shutil \n",
    "import warnings\n",
    "import numpy as np \n",
    "import patoolib \n",
    "import seaborn as sns \n",
    "from datetime import datetime \n",
    "import requests, os, json \n",
    "\n",
    "from simpledbf import Dbf5 \n",
    "warnings.simplefilter('ignore')"
   ]
  },
  {
   "cell_type": "code",
   "execution_count": 2,
   "metadata": {},
   "outputs": [
    {
     "name": "stdout",
     "output_type": "stream",
     "text": [
      "patool: Extracting C:\\Users\\hp\\OneDrive\\Desktop\\lightning_project\\LDS_Data_January to December 2022.rar ...\n",
      "patool: running \"C:\\Program Files\\WinRAR\\rar.EXE\" x -- \"C:\\Users\\hp\\OneDrive\\Desktop\\lightning_project\\LDS_Data_January to December 2022.rar\"\n",
      "patool:     with cwd=DATASETS\n",
      "patool: ... C:\\Users\\hp\\OneDrive\\Desktop\\lightning_project\\LDS_Data_January to December 2022.rar extracted to `DATASETS'.\n"
     ]
    },
    {
     "data": {
      "text/plain": [
       "'DATASETS'"
      ]
     },
     "execution_count": 2,
     "metadata": {},
     "output_type": "execute_result"
    }
   ],
   "source": [
    "try:\n",
    "    os.mkdir('DATASETS')\n",
    "except Exception as e:\n",
    "    pass \n",
    "\n",
    "patoolib.extract_archive(r'C:\\Users\\hp\\OneDrive\\Desktop\\lightning_project\\LDS_Data_January to December 2022.rar', outdir = 'DATASETS')\n"
   ]
  },
  {
   "cell_type": "code",
   "execution_count": 17,
   "metadata": {},
   "outputs": [],
   "source": [
    "def compiledbf(path = r'C:\\Users\\hp\\OneDrive\\Desktop\\lightning_project\\DATASETS\\LDS_Data_January to December 2022'):\n",
    "    directory = os.listdir(path)\n",
    "    dfs = []\n",
    "    for month_file in directory:\n",
    "        month_path = os.path.join(path, month_file)\n",
    "        days = os.listdir(month_path)\n",
    "\n",
    "        for day_file in days:\n",
    "            \n",
    "            if day_file.endswith('.dbf') and not month_file.startswith('December'):\n",
    "\n",
    "                day_path = os.path.join(month_path, day_file)\n",
    "                date_info = day_file.split('_')[2]\n",
    "                day, month, year = int(date_info[:2]), int(date_info[2:4]), int(date_info[4:]) \n",
    "                day_df = Dbf5(day_path).to_dataframe()\n",
    "\n",
    "                day_df['DATE'] = datetime(year = year, month = month, day = day)\n",
    "                dfs.append(day_df)\n",
    "\n",
    "    return dfs \n",
    "\n",
    "dfs = compiledbf()\n",
    "main_df = pd.concat(dfs)\n",
    "\n"
   ]
  },
  {
   "cell_type": "code",
   "execution_count": 29,
   "metadata": {},
   "outputs": [
    {
     "data": {
      "text/plain": [
       "<pandas.core.groupby.generic.DataFrameGroupBy object at 0x00000215AA2330D0>"
      ]
     },
     "execution_count": 29,
     "metadata": {},
     "output_type": "execute_result"
    }
   ],
   "source": [
    "\n",
    "main_df.to_csv('DATAFRAME/lightning.csv', index=False)\n",
    "main_df['month'] = main_df.DATE.dt.month_name()"
   ]
  },
  {
   "cell_type": "code",
   "execution_count": 38,
   "metadata": {},
   "outputs": [],
   "source": [
    "max_strikes = pd.DataFrame(main_df.groupby('month')['Count'].max()) \n",
    "max_strikes.reset_index(level = 0, inplace=True)\n",
    "\n",
    "def getMaxDate(record):\n",
    "    return main_df.loc[(main_df.month == record.month) & (main_df.Count == record.Count), 'DATE'].values[0]\n",
    "\n",
    "max_strikes['DATE'] = max_strikes.apply(lambda x: getMaxDate(x), axis = 1)"
   ]
  },
  {
   "cell_type": "code",
   "execution_count": 40,
   "metadata": {},
   "outputs": [],
   "source": [
    "max_strikes.to_csv('DATAFRAME/max_strikes.csv', index=False)"
   ]
  },
  {
   "cell_type": "code",
   "execution_count": 46,
   "metadata": {},
   "outputs": [],
   "source": [
    "try:\n",
    "    os.mkdir('DECEMBER_ZIP')\n",
    "except Exception as E:\n",
    "    pass \n",
    "\n",
    "def extractZips(path = r'C:\\Users\\hp\\OneDrive\\Desktop\\lightning_project\\December 2022 data'):\n",
    "    \n",
    "    for day_folder in os.listdir(path):\n",
    "\n",
    "        if not day_folder.endswith('.rar'):\n",
    "            folders = os.listdir(os.path.join(path, day_folder))\n",
    "            if len(folders) >= 1:\n",
    "                zip_path = os.path.join(os.path.join(path, day_folder), folders[0]) \n",
    "                shutil.copy(src = zip_path, dst = 'DECEMBER_ZIP')\n",
    "\n",
    "    return \n",
    "\n",
    "extractZips()\n",
    "\n"
   ]
  },
  {
   "cell_type": "code",
   "execution_count": 51,
   "metadata": {},
   "outputs": [],
   "source": [
    "try:\n",
    "    os.mkdir('DECEMBER')\n",
    "except Exception as E:\n",
    "    pass \n",
    "\n",
    "def getVisual(path = 'DECEMBER_ZIP'):\n",
    "\n",
    "    for zip_path in os.listdir(path):\n",
    "        file_name = zip_path.split('.')[0] + '.dbf'\n",
    "        f = ZipFile(f'DECEMBER_ZIP/{zip_path}', 'r')\n",
    "        f.extractall('DECEMBER')\n",
    "        f.close()\n",
    "\n",
    "    return \n",
    "\n",
    "getVisual()"
   ]
  },
  {
   "cell_type": "code",
   "execution_count": 54,
   "metadata": {},
   "outputs": [],
   "source": [
    "def getExcel(path = r'C:\\Users\\hp\\OneDrive\\Desktop\\lightning_project\\DECEMBER\\shape'):\n",
    "    dfs = []\n",
    "    for dbf_file in os.listdir(path):\n",
    "\n",
    "        if dbf_file.endswith('.dbf'):\n",
    "            dbf_path = os.path.join(path, dbf_file)\n",
    "            year, month, day = dbf_file.split('-')[1:4]\n",
    "            df = Dbf5(dbf_path).to_dataframe()\n",
    "            df['DATE'] = datetime(year = int(year), month = int(month), day = int(day))\n",
    "            dfs.append(df)\n",
    "\n",
    "    return dfs\n",
    "\n",
    "dec = pd.concat(getExcel()).drop(columns=['id'])\n"
   ]
  },
  {
   "cell_type": "code",
   "execution_count": 56,
   "metadata": {},
   "outputs": [],
   "source": [
    "dec.rename({'count':'Count'}, axis =1, inplace=True)"
   ]
  },
  {
   "cell_type": "code",
   "execution_count": 58,
   "metadata": {},
   "outputs": [],
   "source": [
    "dec['month'] = dec.DATE.dt.month_name()"
   ]
  },
  {
   "cell_type": "code",
   "execution_count": 61,
   "metadata": {},
   "outputs": [],
   "source": [
    "df = pd.concat([main_df, dec])\n",
    "df.to_csv('DATASETS/lightning_2022.csv', index=False)"
   ]
  },
  {
   "cell_type": "code",
   "execution_count": 62,
   "metadata": {},
   "outputs": [
    {
     "data": {
      "text/html": [
       "<div>\n",
       "<style scoped>\n",
       "    .dataframe tbody tr th:only-of-type {\n",
       "        vertical-align: middle;\n",
       "    }\n",
       "\n",
       "    .dataframe tbody tr th {\n",
       "        vertical-align: top;\n",
       "    }\n",
       "\n",
       "    .dataframe thead th {\n",
       "        text-align: right;\n",
       "    }\n",
       "</style>\n",
       "<table border=\"1\" class=\"dataframe\">\n",
       "  <thead>\n",
       "    <tr style=\"text-align: right;\">\n",
       "      <th></th>\n",
       "      <th>cx</th>\n",
       "      <th>cy</th>\n",
       "      <th>gid</th>\n",
       "      <th>Count</th>\n",
       "      <th>DATE</th>\n",
       "      <th>month</th>\n",
       "    </tr>\n",
       "  </thead>\n",
       "  <tbody>\n",
       "    <tr>\n",
       "      <th>0</th>\n",
       "      <td>72.75</td>\n",
       "      <td>20.15</td>\n",
       "      <td>G042347</td>\n",
       "      <td>0.0</td>\n",
       "      <td>2022-01-01</td>\n",
       "      <td>January</td>\n",
       "    </tr>\n",
       "    <tr>\n",
       "      <th>1</th>\n",
       "      <td>72.85</td>\n",
       "      <td>20.15</td>\n",
       "      <td>G042348</td>\n",
       "      <td>0.0</td>\n",
       "      <td>2022-01-01</td>\n",
       "      <td>January</td>\n",
       "    </tr>\n",
       "    <tr>\n",
       "      <th>2</th>\n",
       "      <td>72.95</td>\n",
       "      <td>20.15</td>\n",
       "      <td>G042349</td>\n",
       "      <td>0.0</td>\n",
       "      <td>2022-01-01</td>\n",
       "      <td>January</td>\n",
       "    </tr>\n",
       "    <tr>\n",
       "      <th>3</th>\n",
       "      <td>73.05</td>\n",
       "      <td>20.15</td>\n",
       "      <td>G042350</td>\n",
       "      <td>0.0</td>\n",
       "      <td>2022-01-01</td>\n",
       "      <td>January</td>\n",
       "    </tr>\n",
       "    <tr>\n",
       "      <th>4</th>\n",
       "      <td>73.15</td>\n",
       "      <td>20.15</td>\n",
       "      <td>G042351</td>\n",
       "      <td>0.0</td>\n",
       "      <td>2022-01-01</td>\n",
       "      <td>January</td>\n",
       "    </tr>\n",
       "    <tr>\n",
       "      <th>...</th>\n",
       "      <td>...</td>\n",
       "      <td>...</td>\n",
       "      <td>...</td>\n",
       "      <td>...</td>\n",
       "      <td>...</td>\n",
       "      <td>...</td>\n",
       "    </tr>\n",
       "    <tr>\n",
       "      <th>1561</th>\n",
       "      <td>72.05</td>\n",
       "      <td>24.55</td>\n",
       "      <td>G055540</td>\n",
       "      <td>0.0</td>\n",
       "      <td>2022-12-25</td>\n",
       "      <td>December</td>\n",
       "    </tr>\n",
       "    <tr>\n",
       "      <th>1562</th>\n",
       "      <td>73.25</td>\n",
       "      <td>20.35</td>\n",
       "      <td>G042952</td>\n",
       "      <td>0.0</td>\n",
       "      <td>2022-12-25</td>\n",
       "      <td>December</td>\n",
       "    </tr>\n",
       "    <tr>\n",
       "      <th>1563</th>\n",
       "      <td>72.15</td>\n",
       "      <td>24.55</td>\n",
       "      <td>G055541</td>\n",
       "      <td>0.0</td>\n",
       "      <td>2022-12-25</td>\n",
       "      <td>December</td>\n",
       "    </tr>\n",
       "    <tr>\n",
       "      <th>1564</th>\n",
       "      <td>73.05</td>\n",
       "      <td>20.45</td>\n",
       "      <td>G043250</td>\n",
       "      <td>0.0</td>\n",
       "      <td>2022-12-25</td>\n",
       "      <td>December</td>\n",
       "    </tr>\n",
       "    <tr>\n",
       "      <th>1565</th>\n",
       "      <td>73.15</td>\n",
       "      <td>20.45</td>\n",
       "      <td>G043251</td>\n",
       "      <td>0.0</td>\n",
       "      <td>2022-12-25</td>\n",
       "      <td>December</td>\n",
       "    </tr>\n",
       "  </tbody>\n",
       "</table>\n",
       "<p>652434 rows × 6 columns</p>\n",
       "</div>"
      ],
      "text/plain": [
       "         cx     cy      gid  Count       DATE     month\n",
       "0     72.75  20.15  G042347    0.0 2022-01-01   January\n",
       "1     72.85  20.15  G042348    0.0 2022-01-01   January\n",
       "2     72.95  20.15  G042349    0.0 2022-01-01   January\n",
       "3     73.05  20.15  G042350    0.0 2022-01-01   January\n",
       "4     73.15  20.15  G042351    0.0 2022-01-01   January\n",
       "...     ...    ...      ...    ...        ...       ...\n",
       "1561  72.05  24.55  G055540    0.0 2022-12-25  December\n",
       "1562  73.25  20.35  G042952    0.0 2022-12-25  December\n",
       "1563  72.15  24.55  G055541    0.0 2022-12-25  December\n",
       "1564  73.05  20.45  G043250    0.0 2022-12-25  December\n",
       "1565  73.15  20.45  G043251    0.0 2022-12-25  December\n",
       "\n",
       "[652434 rows x 6 columns]"
      ]
     },
     "execution_count": 62,
     "metadata": {},
     "output_type": "execute_result"
    }
   ],
   "source": [
    "df"
   ]
  },
  {
   "cell_type": "code",
   "execution_count": null,
   "metadata": {},
   "outputs": [],
   "source": []
  }
 ],
 "metadata": {
  "kernelspec": {
   "display_name": "ml",
   "language": "python",
   "name": "ml"
  },
  "language_info": {
   "codemirror_mode": {
    "name": "ipython",
    "version": 3
   },
   "file_extension": ".py",
   "mimetype": "text/x-python",
   "name": "python",
   "nbconvert_exporter": "python",
   "pygments_lexer": "ipython3",
   "version": "3.10.6"
  },
  "orig_nbformat": 4
 },
 "nbformat": 4,
 "nbformat_minor": 2
}
